{
  "nbformat": 4,
  "nbformat_minor": 0,
  "metadata": {
    "colab": {
      "provenance": [],
      "authorship_tag": "ABX9TyOWBAF+30a/cx8XobsMlQ3L",
      "include_colab_link": true
    },
    "kernelspec": {
      "name": "python3",
      "display_name": "Python 3"
    },
    "language_info": {
      "name": "python"
    }
  },
  "cells": [
    {
      "cell_type": "markdown",
      "metadata": {
        "id": "view-in-github",
        "colab_type": "text"
      },
      "source": [
        "<a href=\"https://colab.research.google.com/github/ulricp/learnPython/blob/main/try_some_stuff.ipynb\" target=\"_parent\"><img src=\"https://colab.research.google.com/assets/colab-badge.svg\" alt=\"Open In Colab\"/></a>"
      ]
    },
    {
      "cell_type": "code",
      "execution_count": null,
      "metadata": {
        "colab": {
          "base_uri": "https://localhost:8080/"
        },
        "id": "BlIAzj_2Fw0P",
        "outputId": "5a43e42a-f277-41c7-9cfd-38b3f1e41f20"
      },
      "outputs": [
        {
          "output_type": "stream",
          "name": "stdout",
          "text": [
            "[[1 2 3]\n",
            " [1 2 3]\n",
            " [1 2 3]]\n"
          ]
        }
      ],
      "source": [
        "import numpy as np\n",
        "arr = np.array([[1,2,3]])\n",
        "r1 = np.repeat(arr, 3, 0)\n",
        "print(r1)"
      ]
    },
    {
      "cell_type": "code",
      "source": [
        "import numpy as np\n",
        "arr = np.array([[1,2,3]])\n",
        "b = arr + [4,5,6]\n",
        "print(b)"
      ],
      "metadata": {
        "colab": {
          "base_uri": "https://localhost:8080/"
        },
        "id": "RdIp6SPNJ86b",
        "outputId": "65797b0a-7f44-4e6b-a143-d5f7fb2f19fc"
      },
      "execution_count": 16,
      "outputs": [
        {
          "output_type": "stream",
          "name": "stdout",
          "text": [
            "[[5 7 9]]\n"
          ]
        }
      ]
    }
  ]
}